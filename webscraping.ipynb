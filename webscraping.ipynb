{
 "cells": [
  {
   "cell_type": "code",
   "execution_count": 1,
   "id": "a251f030",
   "metadata": {},
   "outputs": [],
   "source": [
    "from selenium import webdriver\n",
    "import time\n",
    "import pandas as pd\n",
    "import os\n",
    "from selenium.webdriver.support.select import Select\n",
    "from selenium.webdriver.support.ui import WebDriverWait\n",
    "from selenium.webdriver.common.by import By\n",
    "from selenium.webdriver.support import expected_conditions as EC\n",
    "from selenium.webdriver.chrome.service import Service "
   ]
  },
  {
   "cell_type": "code",
   "execution_count": 2,
   "id": "8bd53d77",
   "metadata": {},
   "outputs": [],
   "source": [
    "url = 'https://rera.odisha.gov.in/projects/project-list'\n",
    "\n",
    "service = Service(r'C:\\Users\\Vignesh\\OneDrive\\Desktop\\chromedriver-win64\\chromedriver-win64\\chromedriver.exe')\n",
    "driver = webdriver.Chrome(service=service)\n",
    "driver.implicitly_wait(10)\n",
    "driver.get(url)"
   ]
  },
  {
   "cell_type": "code",
   "execution_count": 3,
   "id": "75631c41",
   "metadata": {},
   "outputs": [],
   "source": [
    "Rera, pn, pr, add, gst = [], [], [], [], []\n",
    "\n",
    "wait = WebDriverWait(driver, 10)\n",
    "\n",
    "for i in range(6):\n",
    "    try:\n",
    "        view_links = wait.until(EC.presence_of_all_elements_located((By.XPATH, \"//a[text()='View Details']\")))        \n",
    "        driver.execute_script(\"arguments[0].scrollIntoView({block: 'center'});\", view_links[i])\n",
    "        driver.execute_script(\"arguments[0].click();\", view_links[i])\n",
    "        time.sleep(1)\n",
    "\n",
    "        project_name = wait.until(EC.visibility_of_element_located(\n",
    "            (By.XPATH, \"//label[text()='Project Name']/following-sibling::*[1]\"))).text.strip()\n",
    "        rera_number = wait.until(EC.visibility_of_element_located(\n",
    "            (By.XPATH, \"//label[text()='RERA Regd. No.']/following-sibling::*[1]\"))).text.strip()\n",
    "\n",
    "        pn.append(project_name)\n",
    "        Rera.append(rera_number)\n",
    "\n",
    "        promoter_link = wait.until(EC.element_to_be_clickable((By.XPATH, \"//a[text()='Promoter Details']\")))\n",
    "        driver.execute_script(\"arguments[0].scrollIntoView({block: 'center'});\", promoter_link)\n",
    "        driver.execute_script(\"arguments[0].click();\", promoter_link)\n",
    "        time.sleep(1)\n",
    "\n",
    "        try:\n",
    "            promoter_name = wait.until(EC.visibility_of_element_located(\n",
    "                (By.XPATH, \"//label[text()='Company Name']/following-sibling::*[1]\"))).text.strip()\n",
    "        except:\n",
    "            try:\n",
    "                promoter_name = wait.until(EC.visibility_of_element_located(\n",
    "                    (By.XPATH, \"//label[text()='Propietory Name']/following-sibling::*[1]\"))).text.strip()\n",
    "            except:\n",
    "                promoter_name = \"N/A\"\n",
    "\n",
    "        try:\n",
    "            address = wait.until(EC.visibility_of_element_located(\n",
    "                (By.XPATH, \"//label[text()='Registered Office Address']/following-sibling::*[1]\"))).text.strip()\n",
    "        except:\n",
    "            try:\n",
    "                address = wait.until(EC.visibility_of_element_located(\n",
    "                    (By.XPATH, \"//label[text()='Current Residence Address']/following-sibling::*[1]\"))).text.strip()\n",
    "            except:\n",
    "                address = \"N/A\"\n",
    "\n",
    "        # GST No.\n",
    "        try:\n",
    "            gst_number = wait.until(EC.visibility_of_element_located(\n",
    "                (By.XPATH, \"//label[text()='GST No.']/following-sibling::*[1]\"))).text.strip()\n",
    "        except:\n",
    "            gst_number = \"N/A\"\n",
    "\n",
    "        pr.append(promoter_name)\n",
    "        add.append(address)\n",
    "        gst.append(gst_number)\n",
    "\n",
    "        back_button = wait.until(EC.element_to_be_clickable((By.XPATH, \"//button[contains(., 'Back')]\")))\n",
    "        driver.execute_script(\"arguments[0].scrollIntoView({block: 'center'});\", back_button)\n",
    "        driver.execute_script(\"arguments[0].click();\", back_button)\n",
    "        time.sleep(1)\n",
    "\n",
    "    except Exception as e:\n",
    "        print(f\"\\nError processing project {i+1}: {e}\")\n",
    "        print(\"Skipping to next project...\\n\")\n",
    "        continue"
   ]
  },
  {
   "cell_type": "code",
   "execution_count": 4,
   "id": "2726d4ba",
   "metadata": {},
   "outputs": [],
   "source": [
    "projects = []"
   ]
  },
  {
   "cell_type": "code",
   "execution_count": 5,
   "id": "d9c232d6",
   "metadata": {},
   "outputs": [
    {
     "name": "stdout",
     "output_type": "stream",
     "text": [
      "Projects Registered\n",
      "\n",
      "\n",
      "Project 1\n",
      "RERA Regd. No.             : RP/01/2025/01362\n",
      "Project Name               : Basanti Enclave\n",
      "Promoter Name              : M/S. NEELACHAL INFRA DEVELOPERS PVT. LTD\n",
      "Address of the Promoter    : Gurudwara, PO-South Balanda, Via: Talcher Rural INR, Angul-759116, Dist. Angul, Odisha ,,,,,\n",
      "GST No.                    : 21AADCN5439J2ZH\n",
      "\n",
      "Project 2\n",
      "RERA Regd. No.             : RP/19/2025/01361\n",
      "Project Name               : UDYAYEEN\n",
      "Promoter Name              : SHYAMCHAND BUILDERS PRIVATE LIMITED\n",
      "Address of the Promoter    : MIG-II 21/2 Ground Floor,Chandrasekharpur,Bhubaneswar,Khordha,Odisha,751016\n",
      "GST No.                    : 21ABCCS4755J1ZB\n",
      "\n",
      "Project 3\n",
      "RERA Regd. No.             : PS/28/2025/01360\n",
      "Project Name               : BARSANA RESIDENCY - II\n",
      "Promoter Name              : RITA PODDAR\n",
      "Address of the Promoter    : PLOT NO-2570,PODDAR HEIGHTS,PODDAR COLONY,KHETRAJPUR,Sambalpur,Odisha,768003\n",
      "GST No.                    : 21AREPP3171E1Z7\n",
      "\n",
      "Project 4\n",
      "RERA Regd. No.             : PS/7/2025/01358\n",
      "Project Name               : KRISHNA MANOR PH-II\n",
      "Promoter Name              : KRISHNA PROPERTIES & DEVELOPERS PRIVATE LIMITED\n",
      "Address of the Promoter    : Plot No-46, Indraprastha Housing Colony, Phase-II, Pokhariput, Bhubaneswar, Khordha, Odisha-751020.,,,,,\n",
      "GST No.                    : 21AAECK8663L2Z7\n",
      "\n",
      "Project 5\n",
      "RERA Regd. No.             : PS/19/2025/01351\n",
      "Project Name               : BHAVYAVILLA\n",
      "Promoter Name              : SUNSHINE INFRATECH\n",
      "Address of the Promoter    : PLOT NO 339,GOUTAMNAGAR,BJB NAGAR,Khordha,Odisha,751014\n",
      "GST No.                    : 21ACMFS3976P1ZC\n",
      "\n",
      "Project 6\n",
      "RERA Regd. No.             : RP/19/2025/01355\n",
      "Project Name               : MURALIDHARA HEIGHTS\n",
      "Promoter Name              : TRILOCHAN PROJECTS AND DEVELOPERS PVT. LTD\n",
      "Address of the Promoter    : Plot No-208, Flat No-301,Trilochan Plaza,Saheed Nagar,Bhubaneswer,Khordha,Odisha,751007\n",
      "GST No.                    : 21AAGCT0547E1ZT\n"
     ]
    }
   ],
   "source": [
    "print(\"Projects Registered\\n\")\n",
    "for i in range(len(Rera)):\n",
    "    Projects_Registered = []\n",
    "    Projects_Registered.append(Rera[i])\n",
    "    Projects_Registered.append(pn[i])\n",
    "    Projects_Registered.append(pr[i])\n",
    "    Projects_Registered.append(add[i])\n",
    "    Projects_Registered.append(gst[i])\n",
    "    print(f\"\\nProject {i+1}\")\n",
    "    print(f\"RERA Regd. No.             : {Rera[i]}\")\n",
    "    print(f\"Project Name               : {pn[i]}\")\n",
    "    print(f\"Promoter Name              : {pr[i]}\")\n",
    "    print(f\"Address of the Promoter    : {add[i]}\")\n",
    "    print(f\"GST No.                    : {gst[i]}\")\n",
    "    projects.append(Projects_Registered)"
   ]
  },
  {
   "cell_type": "code",
   "execution_count": 6,
   "id": "3ec190a1",
   "metadata": {},
   "outputs": [
    {
     "name": "stdout",
     "output_type": "stream",
     "text": [
      "[['RP/01/2025/01362', 'Basanti Enclave', 'M/S. NEELACHAL INFRA DEVELOPERS PVT. LTD', 'Gurudwara, PO-South Balanda, Via: Talcher Rural INR, Angul-759116, Dist. Angul, Odisha ,,,,,', '21AADCN5439J2ZH'], ['RP/19/2025/01361', 'UDYAYEEN', 'SHYAMCHAND BUILDERS PRIVATE LIMITED', 'MIG-II 21/2 Ground Floor,Chandrasekharpur,Bhubaneswar,Khordha,Odisha,751016', '21ABCCS4755J1ZB'], ['PS/28/2025/01360', 'BARSANA RESIDENCY - II', 'RITA PODDAR', 'PLOT NO-2570,PODDAR HEIGHTS,PODDAR COLONY,KHETRAJPUR,Sambalpur,Odisha,768003', '21AREPP3171E1Z7'], ['PS/7/2025/01358', 'KRISHNA MANOR PH-II', 'KRISHNA PROPERTIES & DEVELOPERS PRIVATE LIMITED', 'Plot No-46, Indraprastha Housing Colony, Phase-II, Pokhariput, Bhubaneswar, Khordha, Odisha-751020.,,,,,', '21AAECK8663L2Z7'], ['PS/19/2025/01351', 'BHAVYAVILLA', 'SUNSHINE INFRATECH', 'PLOT NO 339,GOUTAMNAGAR,BJB NAGAR,Khordha,Odisha,751014', '21ACMFS3976P1ZC'], ['RP/19/2025/01355', 'MURALIDHARA HEIGHTS', 'TRILOCHAN PROJECTS AND DEVELOPERS PVT. LTD', 'Plot No-208, Flat No-301,Trilochan Plaza,Saheed Nagar,Bhubaneswer,Khordha,Odisha,751007', '21AAGCT0547E1ZT']]\n"
     ]
    }
   ],
   "source": [
    "print(projects)"
   ]
  },
  {
   "cell_type": "code",
   "execution_count": 8,
   "id": "126701df",
   "metadata": {},
   "outputs": [
    {
     "name": "stdout",
     "output_type": "stream",
     "text": [
      "      Rera Regd. No            Project Name  \\\n",
      "0  RP/01/2025/01362         Basanti Enclave   \n",
      "1  RP/19/2025/01361                UDYAYEEN   \n",
      "2  PS/28/2025/01360  BARSANA RESIDENCY - II   \n",
      "3   PS/7/2025/01358     KRISHNA MANOR PH-II   \n",
      "4  PS/19/2025/01351             BHAVYAVILLA   \n",
      "5  RP/19/2025/01355     MURALIDHARA HEIGHTS   \n",
      "\n",
      "                                     Promoter Name  \\\n",
      "0         M/S. NEELACHAL INFRA DEVELOPERS PVT. LTD   \n",
      "1              SHYAMCHAND BUILDERS PRIVATE LIMITED   \n",
      "2                                      RITA PODDAR   \n",
      "3  KRISHNA PROPERTIES & DEVELOPERS PRIVATE LIMITED   \n",
      "4                               SUNSHINE INFRATECH   \n",
      "5       TRILOCHAN PROJECTS AND DEVELOPERS PVT. LTD   \n",
      "\n",
      "                             Address of the Promoter          GST No.  \n",
      "0  Gurudwara, PO-South Balanda, Via: Talcher Rura...  21AADCN5439J2ZH  \n",
      "1  MIG-II 21/2 Ground Floor,Chandrasekharpur,Bhub...  21ABCCS4755J1ZB  \n",
      "2  PLOT NO-2570,PODDAR HEIGHTS,PODDAR COLONY,KHET...  21AREPP3171E1Z7  \n",
      "3  Plot No-46, Indraprastha Housing Colony, Phase...  21AAECK8663L2Z7  \n",
      "4  PLOT NO 339,GOUTAMNAGAR,BJB NAGAR,Khordha,Odis...  21ACMFS3976P1ZC  \n",
      "5  Plot No-208, Flat No-301,Trilochan Plaza,Sahee...  21AAGCT0547E1ZT  \n"
     ]
    }
   ],
   "source": [
    "columns = ['Rera Regd. No', 'Project Name', 'Promoter Name', 'Address of the Promoter', 'GST No.']\n",
    "df = pd.DataFrame(projects, columns=columns)\n",
    "\n",
    "print(df)"
   ]
  },
  {
   "cell_type": "code",
   "execution_count": 9,
   "id": "23aabbef",
   "metadata": {},
   "outputs": [],
   "source": [
    "df.to_csv('Projects_Registered.csv', index=False)"
   ]
  }
 ],
 "metadata": {
  "kernelspec": {
   "display_name": "Python 3 (ipykernel)",
   "language": "python",
   "name": "python3"
  },
  "language_info": {
   "codemirror_mode": {
    "name": "ipython",
    "version": 3
   },
   "file_extension": ".py",
   "mimetype": "text/x-python",
   "name": "python",
   "nbconvert_exporter": "python",
   "pygments_lexer": "ipython3",
   "version": "3.11.3"
  }
 },
 "nbformat": 4,
 "nbformat_minor": 5
}
